{
 "cells": [
  {
   "cell_type": "code",
   "execution_count": null,
   "id": "7bcea1fe-94b3-4872-a7d3-e4b84f7c6cd2",
   "metadata": {},
   "outputs": [],
   "source": [
    "import numpy as np\n",
    "import pandas as pd\n",
    "import h5py\n",
    "import csv\n",
    "\n",
    "path = 'Data/all_hourly_data.h5'\n",
    "hf = h5py.File(path, 'r')\n",
    "\n",
    "# dynamic data frames\n",
    "keys = [key for key in hf.keys()]\n",
    "\n",
    "# codes are patient IDs\n",
    "codes = hf['codes']\n",
    "codes = np.array(codes['axis1_label0'])\n",
    "\n",
    "patients = hf['patients'][\"table\"]\n",
    "#patientkeys = [key for key in patients.keys()]\n",
    "\n",
    "\n",
    "# ------------------ Interventions Data ------------------#  \n",
    "interventions = hf['interventions']\n",
    "intervention_name = np.array(interventions['block0_items'])\n",
    "interventions = np.array(interventions['block0_values']) \n",
    "\n",
    "# ------------------ Vitals and Lab Mean Data ------------------#  \n",
    "vitals_labs_mean = hf['vitals_labs_mean']\n",
    "vitals_labs_mean_name =  np.array(vitals_labs_mean['block0_items_level0'])\n",
    "vitals_labs_mean = np.array(vitals_labs_mean['block0_values']) \n",
    "\n",
    "# ------------------ Combine Data ------------------#  \n",
    "interventions = np.concatenate([codes.reshape(len(codes),1), interventions], axis=1)\n",
    "vitals_labs_mean = np.concatenate([codes.reshape(len(codes),1), vitals_labs_mean], axis=1)\n",
    "\n",
    "\n",
    "\n",
    "\n",
    "if __name__ == \"__main__\":\n",
    "    print(\"start\")\n",
    "    np.savetxt(\"patients.csv\", patients, delimiter=\",\", fmt = '%s')\n",
    "    np.savetxt(\"interventions.csv\", interventions, delimiter=\",\")\n",
    "    print(\"interventions done\")\n",
    "    np.savetxt(\"vitals_labs_mean.csv\", vitals_labs_mean, delimiter=\",\")\n",
    "    print(\"vitals done\")\n",
    "    np.savetxt(\"codes.csv\", codes, delimiter=\",\")\n",
    "    print(\"codes done\")\n",
    "    np.savetxt(\"intervention_name.csv\", intervention_name, delimiter=\",\", fmt='%s')\n",
    "    np.savetxt(\"dynamic_names.csv\", vitals_labs_mean_name, delimiter=\",\", fmt='%s')\n",
    "    print(\"labels done\")"
   ]
  },
  {
   "cell_type": "code",
   "execution_count": null,
   "id": "c167e682-cd3b-48d9-ae56-c7493311085e",
   "metadata": {},
   "outputs": [],
   "source": [
    "### the below two blocks are missing from Author's original replication package"
   ]
  },
  {
   "cell_type": "code",
   "execution_count": null,
   "id": "9c682cec-a326-46f1-a5a5-e5c548365fdd",
   "metadata": {},
   "outputs": [],
   "source": [
    "# Open the HDF5 file\n",
    "with pd.HDFStore('Data/all_hourly_data.h5', 'r') as store:\n",
    "    # Load the 'patients' DataFrame\n",
    "    patients_df = store['/patients']\n",
    "\n",
    "    # Display the columns to verify their names\n",
    "    print(patients_df.columns)\n",
    "\n",
    "    # Extract the desired columns\n",
    "    selected_columns = patients_df[[ 'mort_icu', 'mort_hosp', 'los_icu']]\n",
    "\n",
    "    # Display the first few rows of the selected columns\n",
    "    print(selected_columns.head())\n",
    "\n",
    "selected_columns.head()\n",
    "\n",
    "outcome=selected_columns.reset_index()\n",
    "outcome.to_csv('outcome.csv',index=False)"
   ]
  },
  {
   "cell_type": "code",
   "execution_count": null,
   "id": "2f560155-8086-4f56-8fa3-007491953927",
   "metadata": {},
   "outputs": [],
   "source": [
    "# Open the HDF5 file\n",
    "with pd.HDFStore('Data/all_hourly_data.h5', 'r') as store:\n",
    "    # Load the 'patients' DataFrame\n",
    "    patients_df = store['/patients']\n",
    "\n",
    "    # Display the columns to verify their names\n",
    "    print(patients_df.columns)\n",
    "\n",
    "    # Extract the desired columns\n",
    "    selected_columns = patients_df[[ 'gender', 'ethnicity', 'age', 'insurance', 'admission_type', 'first_careunit','admittime','dischtime','intime', 'outtime']]\n",
    "\n",
    "    # Display the first few rows of the selected columns\n",
    "    print(selected_columns.head())\n",
    "\n",
    "selected_columns.head()\n",
    "outcome=selected_columns.reset_index()\n",
    "outcome.to_csv('baseline.csv',index=False)"
   ]
  }
 ],
 "metadata": {
  "kernelspec": {
   "display_name": "Python 3 (ipykernel)",
   "language": "python",
   "name": "python3"
  },
  "language_info": {
   "codemirror_mode": {
    "name": "ipython",
    "version": 3
   },
   "file_extension": ".py",
   "mimetype": "text/x-python",
   "name": "python",
   "nbconvert_exporter": "python",
   "pygments_lexer": "ipython3",
   "version": "3.12.7"
  }
 },
 "nbformat": 4,
 "nbformat_minor": 5
}
